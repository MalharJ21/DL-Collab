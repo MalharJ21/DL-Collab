{
  "nbformat": 4,
  "nbformat_minor": 0,
  "metadata": {
    "colab": {
      "name": "1132210397_Malhar_Jadhav_DLAss1.ipynb",
      "provenance": [],
      "authorship_tag": "ABX9TyOOQ8npiWdaBEwaxjeQHFqq",
      "include_colab_link": true
    },
    "kernelspec": {
      "name": "python3",
      "display_name": "Python 3"
    },
    "language_info": {
      "name": "python"
    }
  },
  "cells": [
    {
      "cell_type": "markdown",
      "metadata": {
        "id": "view-in-github",
        "colab_type": "text"
      },
      "source": [
        "<a href=\"https://colab.research.google.com/github/MalharJ21/DL-Collab/blob/main/1132210397_Malhar_Jadhav_DLAss1.ipynb\" target=\"_parent\"><img src=\"https://colab.research.google.com/assets/colab-badge.svg\" alt=\"Open In Colab\"/></a>"
      ]
    },
    {
      "cell_type": "code",
      "execution_count": 6,
      "metadata": {
        "id": "HeImEQvvjrQj"
      },
      "outputs": [],
      "source": [
        "import pandas as pd\n",
        "import numpy as np\n",
        "from keras.layers import Dense,Dropout\n",
        "from tensorflow.keras.models import Sequential\n",
        "from tensorflow.keras.utils import plot_model\n",
        "from sklearn import preprocessing\n",
        "from sklearn.model_selection import train_test_split\n",
        "import seaborn as sns"
      ]
    },
    {
      "cell_type": "code",
      "source": [
        "df = pd.read_csv(\"/content/weatherHistory.csv\")"
      ],
      "metadata": {
        "id": "1rfmQCjOjzAR"
      },
      "execution_count": 7,
      "outputs": []
    },
    {
      "cell_type": "code",
      "source": [
        "df.head()"
      ],
      "metadata": {
        "colab": {
          "base_uri": "https://localhost:8080/",
          "height": 458
        },
        "id": "mDDSo1QIj5yH",
        "outputId": "e9463ff4-fc48-496e-d307-92de3cdb1ccc"
      },
      "execution_count": 8,
      "outputs": [
        {
          "output_type": "execute_result",
          "data": {
            "text/plain": [
              "                  Formatted Date        Summary Precip Type  Temperature (C)  \\\n",
              "0  2006-04-01 00:00:00.000 +0200  Partly Cloudy        rain         9.472222   \n",
              "1  2006-04-01 01:00:00.000 +0200  Partly Cloudy        rain         9.355556   \n",
              "2  2006-04-01 02:00:00.000 +0200  Mostly Cloudy        rain         9.377778   \n",
              "3  2006-04-01 03:00:00.000 +0200  Partly Cloudy        rain         8.288889   \n",
              "4  2006-04-01 04:00:00.000 +0200  Mostly Cloudy        rain         8.755556   \n",
              "\n",
              "   Apparent Temperature (C)  Humidity  Wind Speed (km/h)  \\\n",
              "0                  7.388889      0.89            14.1197   \n",
              "1                  7.227778      0.86            14.2646   \n",
              "2                  9.377778      0.89             3.9284   \n",
              "3                  5.944444      0.83            14.1036   \n",
              "4                  6.977778      0.83            11.0446   \n",
              "\n",
              "   Wind Bearing (degrees)  Visibility (km)  Loud Cover  Pressure (millibars)  \\\n",
              "0                   251.0          15.8263         0.0               1015.13   \n",
              "1                   259.0          15.8263         0.0               1015.63   \n",
              "2                   204.0          14.9569         0.0               1015.94   \n",
              "3                   269.0          15.8263         0.0               1016.41   \n",
              "4                   259.0          15.8263         0.0               1016.51   \n",
              "\n",
              "                       Daily Summary  \n",
              "0  Partly cloudy throughout the day.  \n",
              "1  Partly cloudy throughout the day.  \n",
              "2  Partly cloudy throughout the day.  \n",
              "3  Partly cloudy throughout the day.  \n",
              "4  Partly cloudy throughout the day.  "
            ],
            "text/html": [
              "\n",
              "  <div id=\"df-3919cfd0-dd30-45b3-b670-c2baaf800ccc\">\n",
              "    <div class=\"colab-df-container\">\n",
              "      <div>\n",
              "<style scoped>\n",
              "    .dataframe tbody tr th:only-of-type {\n",
              "        vertical-align: middle;\n",
              "    }\n",
              "\n",
              "    .dataframe tbody tr th {\n",
              "        vertical-align: top;\n",
              "    }\n",
              "\n",
              "    .dataframe thead th {\n",
              "        text-align: right;\n",
              "    }\n",
              "</style>\n",
              "<table border=\"1\" class=\"dataframe\">\n",
              "  <thead>\n",
              "    <tr style=\"text-align: right;\">\n",
              "      <th></th>\n",
              "      <th>Formatted Date</th>\n",
              "      <th>Summary</th>\n",
              "      <th>Precip Type</th>\n",
              "      <th>Temperature (C)</th>\n",
              "      <th>Apparent Temperature (C)</th>\n",
              "      <th>Humidity</th>\n",
              "      <th>Wind Speed (km/h)</th>\n",
              "      <th>Wind Bearing (degrees)</th>\n",
              "      <th>Visibility (km)</th>\n",
              "      <th>Loud Cover</th>\n",
              "      <th>Pressure (millibars)</th>\n",
              "      <th>Daily Summary</th>\n",
              "    </tr>\n",
              "  </thead>\n",
              "  <tbody>\n",
              "    <tr>\n",
              "      <th>0</th>\n",
              "      <td>2006-04-01 00:00:00.000 +0200</td>\n",
              "      <td>Partly Cloudy</td>\n",
              "      <td>rain</td>\n",
              "      <td>9.472222</td>\n",
              "      <td>7.388889</td>\n",
              "      <td>0.89</td>\n",
              "      <td>14.1197</td>\n",
              "      <td>251.0</td>\n",
              "      <td>15.8263</td>\n",
              "      <td>0.0</td>\n",
              "      <td>1015.13</td>\n",
              "      <td>Partly cloudy throughout the day.</td>\n",
              "    </tr>\n",
              "    <tr>\n",
              "      <th>1</th>\n",
              "      <td>2006-04-01 01:00:00.000 +0200</td>\n",
              "      <td>Partly Cloudy</td>\n",
              "      <td>rain</td>\n",
              "      <td>9.355556</td>\n",
              "      <td>7.227778</td>\n",
              "      <td>0.86</td>\n",
              "      <td>14.2646</td>\n",
              "      <td>259.0</td>\n",
              "      <td>15.8263</td>\n",
              "      <td>0.0</td>\n",
              "      <td>1015.63</td>\n",
              "      <td>Partly cloudy throughout the day.</td>\n",
              "    </tr>\n",
              "    <tr>\n",
              "      <th>2</th>\n",
              "      <td>2006-04-01 02:00:00.000 +0200</td>\n",
              "      <td>Mostly Cloudy</td>\n",
              "      <td>rain</td>\n",
              "      <td>9.377778</td>\n",
              "      <td>9.377778</td>\n",
              "      <td>0.89</td>\n",
              "      <td>3.9284</td>\n",
              "      <td>204.0</td>\n",
              "      <td>14.9569</td>\n",
              "      <td>0.0</td>\n",
              "      <td>1015.94</td>\n",
              "      <td>Partly cloudy throughout the day.</td>\n",
              "    </tr>\n",
              "    <tr>\n",
              "      <th>3</th>\n",
              "      <td>2006-04-01 03:00:00.000 +0200</td>\n",
              "      <td>Partly Cloudy</td>\n",
              "      <td>rain</td>\n",
              "      <td>8.288889</td>\n",
              "      <td>5.944444</td>\n",
              "      <td>0.83</td>\n",
              "      <td>14.1036</td>\n",
              "      <td>269.0</td>\n",
              "      <td>15.8263</td>\n",
              "      <td>0.0</td>\n",
              "      <td>1016.41</td>\n",
              "      <td>Partly cloudy throughout the day.</td>\n",
              "    </tr>\n",
              "    <tr>\n",
              "      <th>4</th>\n",
              "      <td>2006-04-01 04:00:00.000 +0200</td>\n",
              "      <td>Mostly Cloudy</td>\n",
              "      <td>rain</td>\n",
              "      <td>8.755556</td>\n",
              "      <td>6.977778</td>\n",
              "      <td>0.83</td>\n",
              "      <td>11.0446</td>\n",
              "      <td>259.0</td>\n",
              "      <td>15.8263</td>\n",
              "      <td>0.0</td>\n",
              "      <td>1016.51</td>\n",
              "      <td>Partly cloudy throughout the day.</td>\n",
              "    </tr>\n",
              "  </tbody>\n",
              "</table>\n",
              "</div>\n",
              "      <button class=\"colab-df-convert\" onclick=\"convertToInteractive('df-3919cfd0-dd30-45b3-b670-c2baaf800ccc')\"\n",
              "              title=\"Convert this dataframe to an interactive table.\"\n",
              "              style=\"display:none;\">\n",
              "        \n",
              "  <svg xmlns=\"http://www.w3.org/2000/svg\" height=\"24px\"viewBox=\"0 0 24 24\"\n",
              "       width=\"24px\">\n",
              "    <path d=\"M0 0h24v24H0V0z\" fill=\"none\"/>\n",
              "    <path d=\"M18.56 5.44l.94 2.06.94-2.06 2.06-.94-2.06-.94-.94-2.06-.94 2.06-2.06.94zm-11 1L8.5 8.5l.94-2.06 2.06-.94-2.06-.94L8.5 2.5l-.94 2.06-2.06.94zm10 10l.94 2.06.94-2.06 2.06-.94-2.06-.94-.94-2.06-.94 2.06-2.06.94z\"/><path d=\"M17.41 7.96l-1.37-1.37c-.4-.4-.92-.59-1.43-.59-.52 0-1.04.2-1.43.59L10.3 9.45l-7.72 7.72c-.78.78-.78 2.05 0 2.83L4 21.41c.39.39.9.59 1.41.59.51 0 1.02-.2 1.41-.59l7.78-7.78 2.81-2.81c.8-.78.8-2.07 0-2.86zM5.41 20L4 18.59l7.72-7.72 1.47 1.35L5.41 20z\"/>\n",
              "  </svg>\n",
              "      </button>\n",
              "      \n",
              "  <style>\n",
              "    .colab-df-container {\n",
              "      display:flex;\n",
              "      flex-wrap:wrap;\n",
              "      gap: 12px;\n",
              "    }\n",
              "\n",
              "    .colab-df-convert {\n",
              "      background-color: #E8F0FE;\n",
              "      border: none;\n",
              "      border-radius: 50%;\n",
              "      cursor: pointer;\n",
              "      display: none;\n",
              "      fill: #1967D2;\n",
              "      height: 32px;\n",
              "      padding: 0 0 0 0;\n",
              "      width: 32px;\n",
              "    }\n",
              "\n",
              "    .colab-df-convert:hover {\n",
              "      background-color: #E2EBFA;\n",
              "      box-shadow: 0px 1px 2px rgba(60, 64, 67, 0.3), 0px 1px 3px 1px rgba(60, 64, 67, 0.15);\n",
              "      fill: #174EA6;\n",
              "    }\n",
              "\n",
              "    [theme=dark] .colab-df-convert {\n",
              "      background-color: #3B4455;\n",
              "      fill: #D2E3FC;\n",
              "    }\n",
              "\n",
              "    [theme=dark] .colab-df-convert:hover {\n",
              "      background-color: #434B5C;\n",
              "      box-shadow: 0px 1px 3px 1px rgba(0, 0, 0, 0.15);\n",
              "      filter: drop-shadow(0px 1px 2px rgba(0, 0, 0, 0.3));\n",
              "      fill: #FFFFFF;\n",
              "    }\n",
              "  </style>\n",
              "\n",
              "      <script>\n",
              "        const buttonEl =\n",
              "          document.querySelector('#df-3919cfd0-dd30-45b3-b670-c2baaf800ccc button.colab-df-convert');\n",
              "        buttonEl.style.display =\n",
              "          google.colab.kernel.accessAllowed ? 'block' : 'none';\n",
              "\n",
              "        async function convertToInteractive(key) {\n",
              "          const element = document.querySelector('#df-3919cfd0-dd30-45b3-b670-c2baaf800ccc');\n",
              "          const dataTable =\n",
              "            await google.colab.kernel.invokeFunction('convertToInteractive',\n",
              "                                                     [key], {});\n",
              "          if (!dataTable) return;\n",
              "\n",
              "          const docLinkHtml = 'Like what you see? Visit the ' +\n",
              "            '<a target=\"_blank\" href=https://colab.research.google.com/notebooks/data_table.ipynb>data table notebook</a>'\n",
              "            + ' to learn more about interactive tables.';\n",
              "          element.innerHTML = '';\n",
              "          dataTable['output_type'] = 'display_data';\n",
              "          await google.colab.output.renderOutput(dataTable, element);\n",
              "          const docLink = document.createElement('div');\n",
              "          docLink.innerHTML = docLinkHtml;\n",
              "          element.appendChild(docLink);\n",
              "        }\n",
              "      </script>\n",
              "    </div>\n",
              "  </div>\n",
              "  "
            ]
          },
          "metadata": {},
          "execution_count": 8
        }
      ]
    },
    {
      "cell_type": "code",
      "source": [
        "df.info()"
      ],
      "metadata": {
        "colab": {
          "base_uri": "https://localhost:8080/"
        },
        "id": "-iH7c-UTlQhT",
        "outputId": "03a49cdb-080e-45cb-e74b-cfbaffd045cc"
      },
      "execution_count": 9,
      "outputs": [
        {
          "output_type": "stream",
          "name": "stdout",
          "text": [
            "<class 'pandas.core.frame.DataFrame'>\n",
            "RangeIndex: 49165 entries, 0 to 49164\n",
            "Data columns (total 12 columns):\n",
            " #   Column                    Non-Null Count  Dtype  \n",
            "---  ------                    --------------  -----  \n",
            " 0   Formatted Date            49165 non-null  object \n",
            " 1   Summary                   49165 non-null  object \n",
            " 2   Precip Type               49165 non-null  object \n",
            " 3   Temperature (C)           49165 non-null  float64\n",
            " 4   Apparent Temperature (C)  49165 non-null  float64\n",
            " 5   Humidity                  49165 non-null  float64\n",
            " 6   Wind Speed (km/h)         49165 non-null  float64\n",
            " 7   Wind Bearing (degrees)    49165 non-null  float64\n",
            " 8   Visibility (km)           49165 non-null  float64\n",
            " 9   Loud Cover                49164 non-null  float64\n",
            " 10  Pressure (millibars)      49164 non-null  float64\n",
            " 11  Daily Summary             49164 non-null  object \n",
            "dtypes: float64(8), object(4)\n",
            "memory usage: 4.5+ MB\n"
          ]
        }
      ]
    },
    {
      "cell_type": "code",
      "source": [
        "df = df.dropna(axis=0)\n",
        "df.info()"
      ],
      "metadata": {
        "colab": {
          "base_uri": "https://localhost:8080/"
        },
        "id": "3Ems1I0alSy_",
        "outputId": "4b37bd3f-6928-4a58-ad06-0c1ac221ad64"
      },
      "execution_count": 10,
      "outputs": [
        {
          "output_type": "stream",
          "name": "stdout",
          "text": [
            "<class 'pandas.core.frame.DataFrame'>\n",
            "Int64Index: 49164 entries, 0 to 49163\n",
            "Data columns (total 12 columns):\n",
            " #   Column                    Non-Null Count  Dtype  \n",
            "---  ------                    --------------  -----  \n",
            " 0   Formatted Date            49164 non-null  object \n",
            " 1   Summary                   49164 non-null  object \n",
            " 2   Precip Type               49164 non-null  object \n",
            " 3   Temperature (C)           49164 non-null  float64\n",
            " 4   Apparent Temperature (C)  49164 non-null  float64\n",
            " 5   Humidity                  49164 non-null  float64\n",
            " 6   Wind Speed (km/h)         49164 non-null  float64\n",
            " 7   Wind Bearing (degrees)    49164 non-null  float64\n",
            " 8   Visibility (km)           49164 non-null  float64\n",
            " 9   Loud Cover                49164 non-null  float64\n",
            " 10  Pressure (millibars)      49164 non-null  float64\n",
            " 11  Daily Summary             49164 non-null  object \n",
            "dtypes: float64(8), object(4)\n",
            "memory usage: 4.9+ MB\n"
          ]
        }
      ]
    },
    {
      "cell_type": "code",
      "source": [
        "df.columns"
      ],
      "metadata": {
        "colab": {
          "base_uri": "https://localhost:8080/"
        },
        "id": "AJpj6bfIlWVM",
        "outputId": "9ee386b9-eeb5-4f29-f439-144fa91344a4"
      },
      "execution_count": 11,
      "outputs": [
        {
          "output_type": "execute_result",
          "data": {
            "text/plain": [
              "Index(['Formatted Date', 'Summary', 'Precip Type', 'Temperature (C)',\n",
              "       'Apparent Temperature (C)', 'Humidity', 'Wind Speed (km/h)',\n",
              "       'Wind Bearing (degrees)', 'Visibility (km)', 'Loud Cover',\n",
              "       'Pressure (millibars)', 'Daily Summary'],\n",
              "      dtype='object')"
            ]
          },
          "metadata": {},
          "execution_count": 11
        }
      ]
    },
    {
      "cell_type": "code",
      "source": [
        "df_1 = df.iloc[:,3:11]\n",
        "normalized = preprocessing.normalize(df_1)\n",
        "normalized_df = pd.DataFrame(normalized,columns=['Temperature (C)','Apparent Temperature (C)', 'Humidity', 'Wind Speed (km/h)','Wind Bearing (degrees)', 'Visibility (km)', 'Loud Cover','Pressure (millibars)'])\n",
        "normalized_df.head(20)"
      ],
      "metadata": {
        "colab": {
          "base_uri": "https://localhost:8080/",
          "height": 738
        },
        "id": "azsi6iSflYlK",
        "outputId": "88008c40-03c5-44b5-a913-216a51fbc320"
      },
      "execution_count": 12,
      "outputs": [
        {
          "output_type": "execute_result",
          "data": {
            "text/plain": [
              "    Temperature (C)  Apparent Temperature (C)  Humidity  Wind Speed (km/h)  \\\n",
              "0          0.009056                  0.007064  0.000851           0.013499   \n",
              "1          0.008923                  0.006894  0.000820           0.013606   \n",
              "2          0.009048                  0.009048  0.000859           0.003790   \n",
              "3          0.007882                  0.005652  0.000789           0.013411   \n",
              "4          0.008345                  0.006650  0.000791           0.010526   \n",
              "5          0.008790                  0.006778  0.000810           0.013305   \n",
              "6          0.007370                  0.005262  0.000905           0.011783   \n",
              "7          0.008356                  0.006218  0.000848           0.013481   \n",
              "8          0.010306                  0.010306  0.000781           0.010779   \n",
              "9          0.013053                  0.013053  0.000682           0.011872   \n",
              "10         0.015133                  0.015133  0.000633           0.016596   \n",
              "11         0.016080                  0.016080  0.000506           0.018559   \n",
              "12         0.016852                  0.016852  0.000521           0.020775   \n",
              "13         0.016379                  0.016379  0.000482           0.019549   \n",
              "14         0.017964                  0.017964  0.000447           0.014631   \n",
              "15         0.017892                  0.017892  0.000435           0.009840   \n",
              "16         0.014697                  0.014697  0.000573           0.013762   \n",
              "17         0.014920                  0.014920  0.000604           0.010705   \n",
              "18         0.013852                  0.013852  0.000670           0.008276   \n",
              "19         0.012817                  0.012817  0.000683           0.007441   \n",
              "\n",
              "    Wind Bearing (degrees)  Visibility (km)  Loud Cover  Pressure (millibars)  \n",
              "0                 0.239965         0.015131         0.0              0.970501  \n",
              "1                 0.247039         0.015095         0.0              0.968726  \n",
              "2                 0.196831         0.014431         0.0              0.980240  \n",
              "3                 0.255784         0.015049         0.0              0.966475  \n",
              "4                 0.246849         0.015084         0.0              0.968820  \n",
              "5                 0.245913         0.014256         0.0              0.969032  \n",
              "6                 0.246818         0.009513         0.0              0.968901  \n",
              "7                 0.247677         0.009509         0.0              0.968646  \n",
              "8                 0.246657         0.009506         0.0              0.968886  \n",
              "9                 0.264433         0.009461         0.0              0.964108  \n",
              "10                0.274001         0.010587         0.0              0.961290  \n",
              "11                0.296382         0.010736         0.0              0.954558  \n",
              "12                0.266032         0.010670         0.0              0.963386  \n",
              "13                0.273086         0.010649         0.0              0.961453  \n",
              "14                0.249314         0.010893         0.0              0.967918  \n",
              "15                0.272487         0.010663         0.0              0.961717  \n",
              "16                0.239715         0.010763         0.0              0.970463  \n",
              "17                0.220681         0.010983         0.0              0.974997  \n",
              "18                0.158390         0.010889         0.0              0.987087  \n",
              "19                0.135536         0.010926         0.0              0.990518  "
            ],
            "text/html": [
              "\n",
              "  <div id=\"df-671092f6-4c28-4728-9212-cc99fa1e626b\">\n",
              "    <div class=\"colab-df-container\">\n",
              "      <div>\n",
              "<style scoped>\n",
              "    .dataframe tbody tr th:only-of-type {\n",
              "        vertical-align: middle;\n",
              "    }\n",
              "\n",
              "    .dataframe tbody tr th {\n",
              "        vertical-align: top;\n",
              "    }\n",
              "\n",
              "    .dataframe thead th {\n",
              "        text-align: right;\n",
              "    }\n",
              "</style>\n",
              "<table border=\"1\" class=\"dataframe\">\n",
              "  <thead>\n",
              "    <tr style=\"text-align: right;\">\n",
              "      <th></th>\n",
              "      <th>Temperature (C)</th>\n",
              "      <th>Apparent Temperature (C)</th>\n",
              "      <th>Humidity</th>\n",
              "      <th>Wind Speed (km/h)</th>\n",
              "      <th>Wind Bearing (degrees)</th>\n",
              "      <th>Visibility (km)</th>\n",
              "      <th>Loud Cover</th>\n",
              "      <th>Pressure (millibars)</th>\n",
              "    </tr>\n",
              "  </thead>\n",
              "  <tbody>\n",
              "    <tr>\n",
              "      <th>0</th>\n",
              "      <td>0.009056</td>\n",
              "      <td>0.007064</td>\n",
              "      <td>0.000851</td>\n",
              "      <td>0.013499</td>\n",
              "      <td>0.239965</td>\n",
              "      <td>0.015131</td>\n",
              "      <td>0.0</td>\n",
              "      <td>0.970501</td>\n",
              "    </tr>\n",
              "    <tr>\n",
              "      <th>1</th>\n",
              "      <td>0.008923</td>\n",
              "      <td>0.006894</td>\n",
              "      <td>0.000820</td>\n",
              "      <td>0.013606</td>\n",
              "      <td>0.247039</td>\n",
              "      <td>0.015095</td>\n",
              "      <td>0.0</td>\n",
              "      <td>0.968726</td>\n",
              "    </tr>\n",
              "    <tr>\n",
              "      <th>2</th>\n",
              "      <td>0.009048</td>\n",
              "      <td>0.009048</td>\n",
              "      <td>0.000859</td>\n",
              "      <td>0.003790</td>\n",
              "      <td>0.196831</td>\n",
              "      <td>0.014431</td>\n",
              "      <td>0.0</td>\n",
              "      <td>0.980240</td>\n",
              "    </tr>\n",
              "    <tr>\n",
              "      <th>3</th>\n",
              "      <td>0.007882</td>\n",
              "      <td>0.005652</td>\n",
              "      <td>0.000789</td>\n",
              "      <td>0.013411</td>\n",
              "      <td>0.255784</td>\n",
              "      <td>0.015049</td>\n",
              "      <td>0.0</td>\n",
              "      <td>0.966475</td>\n",
              "    </tr>\n",
              "    <tr>\n",
              "      <th>4</th>\n",
              "      <td>0.008345</td>\n",
              "      <td>0.006650</td>\n",
              "      <td>0.000791</td>\n",
              "      <td>0.010526</td>\n",
              "      <td>0.246849</td>\n",
              "      <td>0.015084</td>\n",
              "      <td>0.0</td>\n",
              "      <td>0.968820</td>\n",
              "    </tr>\n",
              "    <tr>\n",
              "      <th>5</th>\n",
              "      <td>0.008790</td>\n",
              "      <td>0.006778</td>\n",
              "      <td>0.000810</td>\n",
              "      <td>0.013305</td>\n",
              "      <td>0.245913</td>\n",
              "      <td>0.014256</td>\n",
              "      <td>0.0</td>\n",
              "      <td>0.969032</td>\n",
              "    </tr>\n",
              "    <tr>\n",
              "      <th>6</th>\n",
              "      <td>0.007370</td>\n",
              "      <td>0.005262</td>\n",
              "      <td>0.000905</td>\n",
              "      <td>0.011783</td>\n",
              "      <td>0.246818</td>\n",
              "      <td>0.009513</td>\n",
              "      <td>0.0</td>\n",
              "      <td>0.968901</td>\n",
              "    </tr>\n",
              "    <tr>\n",
              "      <th>7</th>\n",
              "      <td>0.008356</td>\n",
              "      <td>0.006218</td>\n",
              "      <td>0.000848</td>\n",
              "      <td>0.013481</td>\n",
              "      <td>0.247677</td>\n",
              "      <td>0.009509</td>\n",
              "      <td>0.0</td>\n",
              "      <td>0.968646</td>\n",
              "    </tr>\n",
              "    <tr>\n",
              "      <th>8</th>\n",
              "      <td>0.010306</td>\n",
              "      <td>0.010306</td>\n",
              "      <td>0.000781</td>\n",
              "      <td>0.010779</td>\n",
              "      <td>0.246657</td>\n",
              "      <td>0.009506</td>\n",
              "      <td>0.0</td>\n",
              "      <td>0.968886</td>\n",
              "    </tr>\n",
              "    <tr>\n",
              "      <th>9</th>\n",
              "      <td>0.013053</td>\n",
              "      <td>0.013053</td>\n",
              "      <td>0.000682</td>\n",
              "      <td>0.011872</td>\n",
              "      <td>0.264433</td>\n",
              "      <td>0.009461</td>\n",
              "      <td>0.0</td>\n",
              "      <td>0.964108</td>\n",
              "    </tr>\n",
              "    <tr>\n",
              "      <th>10</th>\n",
              "      <td>0.015133</td>\n",
              "      <td>0.015133</td>\n",
              "      <td>0.000633</td>\n",
              "      <td>0.016596</td>\n",
              "      <td>0.274001</td>\n",
              "      <td>0.010587</td>\n",
              "      <td>0.0</td>\n",
              "      <td>0.961290</td>\n",
              "    </tr>\n",
              "    <tr>\n",
              "      <th>11</th>\n",
              "      <td>0.016080</td>\n",
              "      <td>0.016080</td>\n",
              "      <td>0.000506</td>\n",
              "      <td>0.018559</td>\n",
              "      <td>0.296382</td>\n",
              "      <td>0.010736</td>\n",
              "      <td>0.0</td>\n",
              "      <td>0.954558</td>\n",
              "    </tr>\n",
              "    <tr>\n",
              "      <th>12</th>\n",
              "      <td>0.016852</td>\n",
              "      <td>0.016852</td>\n",
              "      <td>0.000521</td>\n",
              "      <td>0.020775</td>\n",
              "      <td>0.266032</td>\n",
              "      <td>0.010670</td>\n",
              "      <td>0.0</td>\n",
              "      <td>0.963386</td>\n",
              "    </tr>\n",
              "    <tr>\n",
              "      <th>13</th>\n",
              "      <td>0.016379</td>\n",
              "      <td>0.016379</td>\n",
              "      <td>0.000482</td>\n",
              "      <td>0.019549</td>\n",
              "      <td>0.273086</td>\n",
              "      <td>0.010649</td>\n",
              "      <td>0.0</td>\n",
              "      <td>0.961453</td>\n",
              "    </tr>\n",
              "    <tr>\n",
              "      <th>14</th>\n",
              "      <td>0.017964</td>\n",
              "      <td>0.017964</td>\n",
              "      <td>0.000447</td>\n",
              "      <td>0.014631</td>\n",
              "      <td>0.249314</td>\n",
              "      <td>0.010893</td>\n",
              "      <td>0.0</td>\n",
              "      <td>0.967918</td>\n",
              "    </tr>\n",
              "    <tr>\n",
              "      <th>15</th>\n",
              "      <td>0.017892</td>\n",
              "      <td>0.017892</td>\n",
              "      <td>0.000435</td>\n",
              "      <td>0.009840</td>\n",
              "      <td>0.272487</td>\n",
              "      <td>0.010663</td>\n",
              "      <td>0.0</td>\n",
              "      <td>0.961717</td>\n",
              "    </tr>\n",
              "    <tr>\n",
              "      <th>16</th>\n",
              "      <td>0.014697</td>\n",
              "      <td>0.014697</td>\n",
              "      <td>0.000573</td>\n",
              "      <td>0.013762</td>\n",
              "      <td>0.239715</td>\n",
              "      <td>0.010763</td>\n",
              "      <td>0.0</td>\n",
              "      <td>0.970463</td>\n",
              "    </tr>\n",
              "    <tr>\n",
              "      <th>17</th>\n",
              "      <td>0.014920</td>\n",
              "      <td>0.014920</td>\n",
              "      <td>0.000604</td>\n",
              "      <td>0.010705</td>\n",
              "      <td>0.220681</td>\n",
              "      <td>0.010983</td>\n",
              "      <td>0.0</td>\n",
              "      <td>0.974997</td>\n",
              "    </tr>\n",
              "    <tr>\n",
              "      <th>18</th>\n",
              "      <td>0.013852</td>\n",
              "      <td>0.013852</td>\n",
              "      <td>0.000670</td>\n",
              "      <td>0.008276</td>\n",
              "      <td>0.158390</td>\n",
              "      <td>0.010889</td>\n",
              "      <td>0.0</td>\n",
              "      <td>0.987087</td>\n",
              "    </tr>\n",
              "    <tr>\n",
              "      <th>19</th>\n",
              "      <td>0.012817</td>\n",
              "      <td>0.012817</td>\n",
              "      <td>0.000683</td>\n",
              "      <td>0.007441</td>\n",
              "      <td>0.135536</td>\n",
              "      <td>0.010926</td>\n",
              "      <td>0.0</td>\n",
              "      <td>0.990518</td>\n",
              "    </tr>\n",
              "  </tbody>\n",
              "</table>\n",
              "</div>\n",
              "      <button class=\"colab-df-convert\" onclick=\"convertToInteractive('df-671092f6-4c28-4728-9212-cc99fa1e626b')\"\n",
              "              title=\"Convert this dataframe to an interactive table.\"\n",
              "              style=\"display:none;\">\n",
              "        \n",
              "  <svg xmlns=\"http://www.w3.org/2000/svg\" height=\"24px\"viewBox=\"0 0 24 24\"\n",
              "       width=\"24px\">\n",
              "    <path d=\"M0 0h24v24H0V0z\" fill=\"none\"/>\n",
              "    <path d=\"M18.56 5.44l.94 2.06.94-2.06 2.06-.94-2.06-.94-.94-2.06-.94 2.06-2.06.94zm-11 1L8.5 8.5l.94-2.06 2.06-.94-2.06-.94L8.5 2.5l-.94 2.06-2.06.94zm10 10l.94 2.06.94-2.06 2.06-.94-2.06-.94-.94-2.06-.94 2.06-2.06.94z\"/><path d=\"M17.41 7.96l-1.37-1.37c-.4-.4-.92-.59-1.43-.59-.52 0-1.04.2-1.43.59L10.3 9.45l-7.72 7.72c-.78.78-.78 2.05 0 2.83L4 21.41c.39.39.9.59 1.41.59.51 0 1.02-.2 1.41-.59l7.78-7.78 2.81-2.81c.8-.78.8-2.07 0-2.86zM5.41 20L4 18.59l7.72-7.72 1.47 1.35L5.41 20z\"/>\n",
              "  </svg>\n",
              "      </button>\n",
              "      \n",
              "  <style>\n",
              "    .colab-df-container {\n",
              "      display:flex;\n",
              "      flex-wrap:wrap;\n",
              "      gap: 12px;\n",
              "    }\n",
              "\n",
              "    .colab-df-convert {\n",
              "      background-color: #E8F0FE;\n",
              "      border: none;\n",
              "      border-radius: 50%;\n",
              "      cursor: pointer;\n",
              "      display: none;\n",
              "      fill: #1967D2;\n",
              "      height: 32px;\n",
              "      padding: 0 0 0 0;\n",
              "      width: 32px;\n",
              "    }\n",
              "\n",
              "    .colab-df-convert:hover {\n",
              "      background-color: #E2EBFA;\n",
              "      box-shadow: 0px 1px 2px rgba(60, 64, 67, 0.3), 0px 1px 3px 1px rgba(60, 64, 67, 0.15);\n",
              "      fill: #174EA6;\n",
              "    }\n",
              "\n",
              "    [theme=dark] .colab-df-convert {\n",
              "      background-color: #3B4455;\n",
              "      fill: #D2E3FC;\n",
              "    }\n",
              "\n",
              "    [theme=dark] .colab-df-convert:hover {\n",
              "      background-color: #434B5C;\n",
              "      box-shadow: 0px 1px 3px 1px rgba(0, 0, 0, 0.15);\n",
              "      filter: drop-shadow(0px 1px 2px rgba(0, 0, 0, 0.3));\n",
              "      fill: #FFFFFF;\n",
              "    }\n",
              "  </style>\n",
              "\n",
              "      <script>\n",
              "        const buttonEl =\n",
              "          document.querySelector('#df-671092f6-4c28-4728-9212-cc99fa1e626b button.colab-df-convert');\n",
              "        buttonEl.style.display =\n",
              "          google.colab.kernel.accessAllowed ? 'block' : 'none';\n",
              "\n",
              "        async function convertToInteractive(key) {\n",
              "          const element = document.querySelector('#df-671092f6-4c28-4728-9212-cc99fa1e626b');\n",
              "          const dataTable =\n",
              "            await google.colab.kernel.invokeFunction('convertToInteractive',\n",
              "                                                     [key], {});\n",
              "          if (!dataTable) return;\n",
              "\n",
              "          const docLinkHtml = 'Like what you see? Visit the ' +\n",
              "            '<a target=\"_blank\" href=https://colab.research.google.com/notebooks/data_table.ipynb>data table notebook</a>'\n",
              "            + ' to learn more about interactive tables.';\n",
              "          element.innerHTML = '';\n",
              "          dataTable['output_type'] = 'display_data';\n",
              "          await google.colab.output.renderOutput(dataTable, element);\n",
              "          const docLink = document.createElement('div');\n",
              "          docLink.innerHTML = docLinkHtml;\n",
              "          element.appendChild(docLink);\n",
              "        }\n",
              "      </script>\n",
              "    </div>\n",
              "  </div>\n",
              "  "
            ]
          },
          "metadata": {},
          "execution_count": 12
        }
      ]
    },
    {
      "cell_type": "code",
      "source": [
        "nor_corr = normalized_df.corr()\n",
        "sns.heatmap(nor_corr,annot=True)"
      ],
      "metadata": {
        "colab": {
          "base_uri": "https://localhost:8080/",
          "height": 406
        },
        "id": "AE0Ru7v8lacp",
        "outputId": "41ed0f5f-a603-4854-9542-b50d156e7a8c"
      },
      "execution_count": 13,
      "outputs": [
        {
          "output_type": "execute_result",
          "data": {
            "text/plain": [
              "<matplotlib.axes._subplots.AxesSubplot at 0x7fd253093550>"
            ]
          },
          "metadata": {},
          "execution_count": 13
        },
        {
          "output_type": "display_data",
          "data": {
            "text/plain": [
              "<Figure size 432x288 with 2 Axes>"
            ],
            "image/png": "[encoded data removed]"
          },
          "metadata": {
            "needs_background": "light"
          }
        }
      ]
    },
    {
      "cell_type": "code",
      "source": [
        "normalized_df = normalized_df.drop(['Loud Cover'],axis=1)"
      ],
      "metadata": {
        "id": "sL05gE2wlcZ-"
      },
      "execution_count": 14,
      "outputs": []
    },
    {
      "cell_type": "code",
      "source": [
        "x = normalized_df.iloc[:,1:5]\n",
        "y = normalized_df.iloc[:,5]\n",
        "\n",
        "x_train,x_test,y_train,y_test = train_test_split(x,y,test_size=0.3,random_state=10)\n",
        "print(x_train.shape,y_train.shape,x_test.shape,y_test.shape)"
      ],
      "metadata": {
        "colab": {
          "base_uri": "https://localhost:8080/"
        },
        "id": "YYupKUqzleir",
        "outputId": "d8b82928-367e-495f-bdf1-c15b05996e87"
      },
      "execution_count": 15,
      "outputs": [
        {
          "output_type": "stream",
          "name": "stdout",
          "text": [
            "(34414, 4) (34414,) (14750, 4) (14750,)\n"
          ]
        }
      ]
    },
    {
      "cell_type": "code",
      "source": [
        "import keras\n",
        "import tensorflow as tf\n",
        "model = Sequential()\n",
        "model.add(Dense(32,input_dim=4,activation='softplus'))\n",
        "model.add(Dense(16,activation='softplus'))\n",
        "model.add(Dropout(0.2))\n",
        "model.add(Dense(8,activation='softplus'))\n",
        "model.add(Dropout(0.2))\n",
        "model.add(Dense(1,activation='linear'))"
      ],
      "metadata": {
        "id": "eehIEAjSlhcI"
      },
      "execution_count": 16,
      "outputs": []
    },
    {
      "cell_type": "code",
      "source": [
        "model.compile(loss='binary_crossentropy',optimizer='adam',metrics=['accuracy'])"
      ],
      "metadata": {
        "id": "kmoNotLpljmu"
      },
      "execution_count": 17,
      "outputs": []
    },
    {
      "cell_type": "code",
      "source": [
        "model.fit(x_train,y_train,epochs=10,batch_size=10,verbose=1)"
      ],
      "metadata": {
        "colab": {
          "base_uri": "https://localhost:8080/"
        },
        "id": "QZvvf5fSlnyh",
        "outputId": "a4b9c73b-a73c-4175-e33c-a8ec7be6ed79"
      },
      "execution_count": 18,
      "outputs": [
        {
          "output_type": "stream",
          "name": "stdout",
          "text": [
            "Epoch 1/10\n",
            "3442/3442 [==============================] - 9s 2ms/step - loss: 0.1665 - accuracy: 0.0015\n",
            "Epoch 2/10\n",
            "3442/3442 [==============================] - 15s 4ms/step - loss: 0.1622 - accuracy: 0.0015\n",
            "Epoch 3/10\n",
            "3442/3442 [==============================] - 14s 4ms/step - loss: 0.1621 - accuracy: 0.0015\n",
            "Epoch 4/10\n",
            "3442/3442 [==============================] - 7s 2ms/step - loss: 0.1621 - accuracy: 0.0015\n",
            "Epoch 5/10\n",
            "3442/3442 [==============================] - 6s 2ms/step - loss: 0.1621 - accuracy: 0.0015\n",
            "Epoch 6/10\n",
            "3442/3442 [==============================] - 6s 2ms/step - loss: 0.1621 - accuracy: 0.0015\n",
            "Epoch 7/10\n",
            "3442/3442 [==============================] - 7s 2ms/step - loss: 0.1621 - accuracy: 0.0015\n",
            "Epoch 8/10\n",
            "3442/3442 [==============================] - 6s 2ms/step - loss: 0.1621 - accuracy: 0.0015\n",
            "Epoch 9/10\n",
            "3442/3442 [==============================] - 7s 2ms/step - loss: 0.1621 - accuracy: 0.0015\n",
            "Epoch 10/10\n",
            "3442/3442 [==============================] - 8s 2ms/step - loss: 0.1621 - accuracy: 0.0015\n"
          ]
        },
        {
          "output_type": "execute_result",
          "data": {
            "text/plain": [
              "<keras.callbacks.History at 0x7fd25316ef90>"
            ]
          },
          "metadata": {},
          "execution_count": 18
        }
      ]
    },
    {
      "cell_type": "code",
      "source": [
        "loss,accuracy=model.evaluate(x_test,y_test,verbose=1)\n",
        "print('Model Loss: %.2f, Accuracy:%.2f' %((loss*100),(accuracy*100)))"
      ],
      "metadata": {
        "colab": {
          "base_uri": "https://localhost:8080/"
        },
        "id": "XiyOY-PKlqGR",
        "outputId": "0b2d6532-d0c0-457d-8ff9-27a320c1f69d"
      },
      "execution_count": 19,
      "outputs": [
        {
          "output_type": "stream",
          "name": "stdout",
          "text": [
            "461/461 [==============================] - 1s 2ms/step - loss: 0.1619 - accuracy: 8.8136e-04\n",
            "Model Loss: 16.19, Accuracy:0.09\n"
          ]
        }
      ]
    },
    {
      "cell_type": "code",
      "source": [
        ""
      ],
      "metadata": {
        "id": "SUFAF7galsnT"
      },
      "execution_count": null,
      "outputs": []
    }
  ]
}